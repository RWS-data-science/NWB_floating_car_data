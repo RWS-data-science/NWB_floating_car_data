{
 "cells": [
  {
   "cell_type": "code",
   "execution_count": null,
   "metadata": {
    "collapsed": true
   },
   "outputs": [],
   "source": []
  },
  {
   "cell_type": "code",
   "execution_count": null,
   "metadata": {
    "collapsed": true
   },
   "outputs": [],
   "source": [
    "import arcpy\n",
    "\n",
    "try:\n",
    "    # Set local variables\n",
    "    base_features = \"C:/Workspace/baseroads.shp\"\n",
    "    test_features = \"C:/Workspace/newroads.shp\"\n",
    "    sort_field = \"ROAD_ID\"\n",
    "    compare_type = \"ALL\"\n",
    "    ignore_option = \"IGNORE_M;IGNORE_Z\"\n",
    "    xy_tolerance = \"0.001 METERS\"\n",
    "    m_tolerance = 0\n",
    "    z_tolerance = 0\n",
    "    attribute_tolerance = \"Shape_Length 0.001\"\n",
    "    omit_field = \"#\"\n",
    "    continue_compare = \"CONTINUE_COMPARE\"\n",
    "    compare_file = \"C:/Workspace/roadcompare.txt\"\n",
    " \n",
    "    # Process: FeatureCompare\n",
    "    compare_result = arcpy.FeatureCompare_management(base_features, test_features, sort_field, compare_type, ignore_option, xy_tolerance, m_tolerance, z_tolerance, attribute_tolerance, omit_field, continue_compare, compare_file)\n",
    "    print compare_result\n",
    "    print arcpy.GetMessages()\n",
    " \n",
    "except:\n",
    "    # Print error message if an error occurs\n",
    "    print arcpy.GetMessages()"
   ]
  }
 ],
 "metadata": {
  "kernelspec": {
   "display_name": "Python 3",
   "language": "python",
   "name": "python3"
  },
  "language_info": {
   "codemirror_mode": {
    "name": "ipython",
    "version": 3
   },
   "file_extension": ".py",
   "mimetype": "text/x-python",
   "name": "python",
   "nbconvert_exporter": "python",
   "pygments_lexer": "ipython3",
   "version": "3.6.0"
  }
 },
 "nbformat": 4,
 "nbformat_minor": 2
}
